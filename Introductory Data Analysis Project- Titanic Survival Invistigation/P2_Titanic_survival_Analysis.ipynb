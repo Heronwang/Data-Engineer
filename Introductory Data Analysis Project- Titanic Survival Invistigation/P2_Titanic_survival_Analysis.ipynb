{
 "cells": [
  {
   "cell_type": "markdown",
   "metadata": {},
   "source": [
    "# Titanic Survival Analysis\n",
    "\n",
    "**Intro**:\n",
    "As the movie Titanic one of my favorites, I was attracted by this topic immediately when I saw it. While the movie itself is touching and romantic, the actualy historic event was an astounding tradegy. Ironically against the claim as a safest ship ever, the Titanic carried only 20 boats in contrast with the supposed 64, and the lack of emergency training made the situation even worse. In the end, only one third of 2,200 passengers and crew were saved and survived from its sinking. \n",
    "> **Questions**:\n",
    "Looking through the records, a very interesting question to ask is during the last critical 160 minutes,  what composed the final answer of the Titanic people, to the choice question of life and death. In the movie, women ,children and pasengers were given the priority of the 20 life-saving boats, survived at the great sacrifice of brave men, parents and crews. With the dataset at hand and many reports as references, **we will start with the most likely factors such as gender,status and age**, and try to re-establish the Titanic story from another perspective, by numbers and statistics, and decompose the most difficult choice.\n"
   ]
  },
  {
   "cell_type": "markdown",
   "metadata": {},
   "source": [
    "# 1.Data wrangling\n",
    "Actually there is nothing much to wrangle with as the given dataset is already pretty clean and ready to use. So I just did little preparatin work including checking and handling missing values,and creating a overview about the dataset. "
   ]
  },
  {
   "cell_type": "code",
   "execution_count": 1,
   "metadata": {
    "collapsed": false
   },
   "outputs": [],
   "source": [
    "#import all necessary modules\n",
    "import csv\n",
    "import pandas as pd\n",
    "import numpy as np\n",
    "\n",
    "from IPython.display import display\n",
    "from scipy import stats\n",
    "\n",
    "import seaborn as sns\n",
    "\n",
    "import os\n",
    "import matplotlib.pyplot as plt\n",
    "%matplotlib inline\n",
    "\n",
    "os.chdir(r'C:\\Users\\13913\\Desktop\\OneDrive\\python_rescourses\\DAND\\P2')\n",
    "\n"
   ]
  },
  {
   "cell_type": "code",
   "execution_count": 2,
   "metadata": {
    "collapsed": false
   },
   "outputs": [],
   "source": [
    "#input the raw file\n",
    "alldata='titanic-data.csv'\n",
    "data=pd.read_csv(alldata)"
   ]
  },
  {
   "cell_type": "code",
   "execution_count": 3,
   "metadata": {
    "collapsed": false
   },
   "outputs": [
    {
     "data": {
      "text/html": [
       "<div>\n",
       "<table border=\"1\" class=\"dataframe\">\n",
       "  <thead>\n",
       "    <tr style=\"text-align: right;\">\n",
       "      <th></th>\n",
       "      <th>PassengerID</th>\n",
       "      <th>Survived</th>\n",
       "      <th>Pclass</th>\n",
       "      <th>name</th>\n",
       "      <th>Sex</th>\n",
       "      <th>Age</th>\n",
       "      <th>SibSp</th>\n",
       "      <th>ParCh</th>\n",
       "      <th>Ticket</th>\n",
       "      <th>Fare</th>\n",
       "      <th>Cabin</th>\n",
       "      <th>Embarked</th>\n",
       "    </tr>\n",
       "  </thead>\n",
       "  <tbody>\n",
       "    <tr>\n",
       "      <th>0</th>\n",
       "      <td>1</td>\n",
       "      <td>0</td>\n",
       "      <td>3</td>\n",
       "      <td>Braund, Mr. Owen Harris</td>\n",
       "      <td>male</td>\n",
       "      <td>22.0</td>\n",
       "      <td>1</td>\n",
       "      <td>0</td>\n",
       "      <td>A/5 21171</td>\n",
       "      <td>7.2500</td>\n",
       "      <td>NaN</td>\n",
       "      <td>S</td>\n",
       "    </tr>\n",
       "    <tr>\n",
       "      <th>1</th>\n",
       "      <td>2</td>\n",
       "      <td>1</td>\n",
       "      <td>1</td>\n",
       "      <td>Cumings, Mrs. John Bradley (Florence Briggs Th...</td>\n",
       "      <td>female</td>\n",
       "      <td>38.0</td>\n",
       "      <td>1</td>\n",
       "      <td>0</td>\n",
       "      <td>PC 17599</td>\n",
       "      <td>71.2833</td>\n",
       "      <td>C85</td>\n",
       "      <td>C</td>\n",
       "    </tr>\n",
       "    <tr>\n",
       "      <th>2</th>\n",
       "      <td>3</td>\n",
       "      <td>1</td>\n",
       "      <td>3</td>\n",
       "      <td>Heikkinen, Miss. Laina</td>\n",
       "      <td>female</td>\n",
       "      <td>26.0</td>\n",
       "      <td>0</td>\n",
       "      <td>0</td>\n",
       "      <td>STON/O2. 3101282</td>\n",
       "      <td>7.9250</td>\n",
       "      <td>NaN</td>\n",
       "      <td>S</td>\n",
       "    </tr>\n",
       "    <tr>\n",
       "      <th>3</th>\n",
       "      <td>4</td>\n",
       "      <td>1</td>\n",
       "      <td>1</td>\n",
       "      <td>Futrelle, Mrs. Jacques Heath (Lily May Peel)</td>\n",
       "      <td>female</td>\n",
       "      <td>35.0</td>\n",
       "      <td>1</td>\n",
       "      <td>0</td>\n",
       "      <td>113803</td>\n",
       "      <td>53.1000</td>\n",
       "      <td>C123</td>\n",
       "      <td>S</td>\n",
       "    </tr>\n",
       "    <tr>\n",
       "      <th>4</th>\n",
       "      <td>5</td>\n",
       "      <td>0</td>\n",
       "      <td>3</td>\n",
       "      <td>Allen, Mr. William Henry</td>\n",
       "      <td>male</td>\n",
       "      <td>35.0</td>\n",
       "      <td>0</td>\n",
       "      <td>0</td>\n",
       "      <td>373450</td>\n",
       "      <td>8.0500</td>\n",
       "      <td>NaN</td>\n",
       "      <td>S</td>\n",
       "    </tr>\n",
       "  </tbody>\n",
       "</table>\n",
       "</div>"
      ],
      "text/plain": [
       "   PassengerID  Survived  Pclass  \\\n",
       "0            1         0       3   \n",
       "1            2         1       1   \n",
       "2            3         1       3   \n",
       "3            4         1       1   \n",
       "4            5         0       3   \n",
       "\n",
       "                                                name     Sex   Age  SibSp  \\\n",
       "0                            Braund, Mr. Owen Harris    male  22.0      1   \n",
       "1  Cumings, Mrs. John Bradley (Florence Briggs Th...  female  38.0      1   \n",
       "2                             Heikkinen, Miss. Laina  female  26.0      0   \n",
       "3       Futrelle, Mrs. Jacques Heath (Lily May Peel)  female  35.0      1   \n",
       "4                           Allen, Mr. William Henry    male  35.0      0   \n",
       "\n",
       "   ParCh            Ticket     Fare Cabin Embarked  \n",
       "0      0         A/5 21171   7.2500   NaN        S  \n",
       "1      0          PC 17599  71.2833   C85        C  \n",
       "2      0  STON/O2. 3101282   7.9250   NaN        S  \n",
       "3      0            113803  53.1000  C123        S  \n",
       "4      0            373450   8.0500   NaN        S  "
      ]
     },
     "metadata": {},
     "output_type": "display_data"
    },
    {
     "name": "stdout",
     "output_type": "stream",
     "text": [
      "       PassengerID    Survived      Pclass         Age       SibSp  \\\n",
      "count   891.000000  891.000000  891.000000  714.000000  891.000000   \n",
      "mean    446.000000    0.383838    2.308642   29.699118    0.523008   \n",
      "std     257.353842    0.486592    0.836071   14.526497    1.102743   \n",
      "min       1.000000    0.000000    1.000000    0.420000    0.000000   \n",
      "25%     223.500000    0.000000    2.000000         NaN    0.000000   \n",
      "50%     446.000000    0.000000    3.000000         NaN    0.000000   \n",
      "75%     668.500000    1.000000    3.000000         NaN    1.000000   \n",
      "max     891.000000    1.000000    3.000000   80.000000    8.000000   \n",
      "\n",
      "            ParCh        Fare  \n",
      "count  891.000000  891.000000  \n",
      "mean     0.381594   32.204208  \n",
      "std      0.806057   49.693429  \n",
      "min      0.000000    0.000000  \n",
      "25%      0.000000    7.910400  \n",
      "50%      0.000000   14.454200  \n",
      "75%      0.000000   31.000000  \n",
      "max      6.000000  512.329200  \n"
     ]
    },
    {
     "name": "stderr",
     "output_type": "stream",
     "text": [
      "c:\\python27\\lib\\site-packages\\numpy\\lib\\function_base.py:3834: RuntimeWarning: Invalid value encountered in percentile\n",
      "  RuntimeWarning)\n"
     ]
    }
   ],
   "source": [
    "#display top 5 rows and create an overview of the whole dataset\n",
    "display(data.head())\n",
    "print data.describe()"
   ]
  },
  {
   "cell_type": "code",
   "execution_count": 4,
   "metadata": {
    "collapsed": false
   },
   "outputs": [
    {
     "data": {
      "text/plain": [
       "PassengerID      0\n",
       "Survived         0\n",
       "Pclass           0\n",
       "name             0\n",
       "Sex              0\n",
       "Age            177\n",
       "SibSp            0\n",
       "ParCh            0\n",
       "Ticket           0\n",
       "Fare             0\n",
       "Cabin          687\n",
       "Embarked         2\n",
       "dtype: int64"
      ]
     },
     "execution_count": 4,
     "metadata": {},
     "output_type": "execute_result"
    }
   ],
   "source": [
    "#input the raw file\n",
    "data=pd.read_csv(alldata)\n",
    "\n",
    "#check any missing values\n",
    "data.isnull().sum()\n"
   ]
  },
  {
   "cell_type": "markdown",
   "metadata": {},
   "source": [
    "As we can see, 9 out of 12 of the fields are complete such as PassengerID,Pclass, Survived and so on. It's especially important to see **Survived column is complete** since it is the main parameter we are interested to study with. If any of rows lack this field we can't help but to drop the row. So we are happy. And missing values in columns Cabin and Embarked just don't bother us since we are not interested in them now. The missing values in Age, might disrupt some functionality, but we can simply use dropna() if that is the case. To make full advantage of the data size, it's good to keep the data size as it is."
   ]
  },
  {
   "cell_type": "markdown",
   "metadata": {},
   "source": [
    "**First Impression**:\n",
    "Let's form a quick first impression about the passenger infomation: frist of all, among the recorded 891 people only 342 survived, with a mean probility 0.3838; more than half of the passengers on the luxary ship were from lower class, while the upper class took up only one fourth, which is surprising to me; male passengers were 1.8 times of female passengers; the mean age of passengers was 29.7, fairly young, with std of 14.5 (i.e., approximately 68% passengers were 14.9 to 43.9 years old); based on SibSp and Parch info, more than half of passengers traveled without direct relatives; finally, 3/4 of people embarked on Southampton, the departure point, and the last 77 passengers embarked on the Queenstown,Ireland. \n",
    "We have in total 891 records and 12 variables. The 'Survived' variable is the one what we are most interested in. To finally dissect the components from it, we need choose some promising starting points first. "
   ]
  },
  {
   "cell_type": "markdown",
   "metadata": {},
   "source": [
    ">**Notice**:\n",
    "Noticebly, 891 records here only covers 0.4 of actuall 2200 people on board. It is important to ask, why did this specific share of infomation get collected here, not else? Was the collection biasly carried out? Or further, is the analysis based on the imcomplete dataset applicable on actual population at all? Well, based on independent reports about the accident,such as  [Titanic Facts](http://www.titanicfacts.net/),[Eyewitness to Titanic](http://www.eyewitnesstohistory.com/titanic.htm), the overal gender and survival rate description of 2200 corresponds nicely with what we get here. Therefore I think our this dataset is generally representative and our analysis based on should be solid and relevant."
   ]
  },
  {
   "cell_type": "code",
   "execution_count": 5,
   "metadata": {
    "collapsed": false
   },
   "outputs": [
    {
     "data": {
      "image/png": "[encoded data removed]",
      "text/plain": [
       "<matplotlib.figure.Figure at 0x1d20f2e8>"
      ]
     },
     "metadata": {},
     "output_type": "display_data"
    }
   ],
   "source": [
    "\n",
    "#use pie chart to show the relative percentage of surivors and victims from each of class\n",
    "plt.figure(figsize=(2,8))\n",
    "labels = [u'Upperclass victims',u'Upperclass survivors',\n",
    "          u'Middleclass victims',u'Middleclass survivors', \n",
    "          u'Lowerclass victims',u'Lowerclass survivors']\n",
    "nums=data.groupby([\"Pclass\",\"Survived\"]).size()\n",
    "sizes=[num/1./sum(nums)*100 for num in nums]\n",
    "colors = ['lightyellow','yellow','lightgreen','green','lightskyblue','skyblue']\n",
    "explode = (0.1,0,0,0,0,0)\n",
    "\n",
    "plt.pie(sizes,explode=explode,labels=labels,colors=colors,autopct = '%3.1f%%',labeldistance=2)\n",
    "plt.axis('equal')\n",
    "plt.legend()\n",
    "plt.show()\n"
   ]
  },
  {
   "cell_type": "code",
   "execution_count": 6,
   "metadata": {
    "collapsed": false,
    "scrolled": true
   },
   "outputs": [
    {
     "data": {
      "image/png": "[encoded data removed]",
      "text/plain": [
       "<matplotlib.figure.Figure at 0x1d13e160>"
      ]
     },
     "metadata": {},
     "output_type": "display_data"
    }
   ],
   "source": [
    "#use pie chart to show the relative percentage of surivors and victims from each of class\n",
    "plt.figure(figsize=(2,6))\n",
    "labels = [u'Female victims',u'Female survivors',\n",
    "          u'Male victims',u'Male survivors']\n",
    "\n",
    "nums=data.groupby([\"Sex\",\"Survived\"]).size()\n",
    "sizes=[num/1./sum(nums)*100 for num in nums]\n",
    "colors = ['lightyellow','yellow','lightskyblue','skyblue']\n",
    "explode = (0.05,0,0,0)\n",
    "\n",
    "plt.pie(sizes,explode=explode,labels=labels,colors=colors,autopct = '%3.1f%%',labeldistance=2)\n",
    "plt.axis('equal')\n",
    "plt.legend()\n",
    "plt.show()"
   ]
  },
  {
   "cell_type": "markdown",
   "metadata": {},
   "source": [
    "# 2. What contributes to the accident survival and how?\n",
    "\n",
    "## 2.1 Hypothesis\n",
    "Here we pick **3 independent variables** that most likely to have a role to play, according to Titanic movie, accident reports as well as based on our own summarizing. They are 'Sex', 'Pclass',and 'Age'. Let's first **assume** no intertangling between the 3 and no lurking factors besides them.As I mentioned before 'Survied' is the **dependent variable** we would like to look at. Therefore, we get 3 candidate hypothesis:\n",
    "**Hypothesis I:** 'Sex' factor has an effect on survival;\n",
    "**Hypothesis II:**'Pclass' factor has an effect on survival;\n",
    "**Hypothesis III**: 'Age' factor  has an effect on survival.\n"
   ]
  },
  {
   "cell_type": "code",
   "execution_count": 7,
   "metadata": {
    "collapsed": true
   },
   "outputs": [],
   "source": [
    "#filter function block which would be used later on\n",
    "#code in this block is borrowed from P0 file \"babs_visualizations.py\" with adaptive modifications\n",
    "def filter_data(data, condition):\n",
    "    field, op, value = condition.split(\" \", 2)\n",
    "    if field not in data.columns.values:\n",
    "        raise Exception(\"'{}' is not a feature of the dataframe. Did you spell something wrong?\".format(field))\n",
    "    try:\n",
    "        value = float(value)\n",
    "    except:\n",
    "        value = value.strip(\"\\'\\\"\")\n",
    "\n",
    "    # get booleans for filtering\n",
    "    if op == \">\":\n",
    "        matches = data[field] > value\n",
    "    elif op == \"<\":\n",
    "        matches = data[field] < value\n",
    "    elif op == \">=\":\n",
    "        matches = data[field] >= value\n",
    "    elif op == \"<=\":\n",
    "        matches = data[field] <= value\n",
    "    elif op == \"==\":\n",
    "        matches = data[field] == value\n",
    "    elif op == \"!=\":\n",
    "        matches = data[field] != value\n",
    "    else:  # catch invalid operation codes\n",
    "        raise Exception(\"Invalid comparison operator. Only >, <, >=, <=, ==, != allowed.\")\n",
    "\n",
    "    # filter data and outcomes\n",
    "    data = data[matches].reset_index(drop=True)\n",
    "    return data"
   ]
  },
  {
   "cell_type": "markdown",
   "metadata": {},
   "source": [
    "## 2.2 Intuitive observation"
   ]
  },
  {
   "cell_type": "markdown",
   "metadata": {},
   "source": [
    "### Is hypothesis  correct at first glance?"
   ]
  },
  {
   "cell_type": "code",
   "execution_count": 8,
   "metadata": {
    "collapsed": false
   },
   "outputs": [
    {
     "name": "stdout",
     "output_type": "stream",
     "text": [
      "------------\n",
      "Survived  Sex   \n",
      "0         female     81\n",
      "          male      468\n",
      "1         female    233\n",
      "          male      109\n",
      "dtype: int64\n",
      "------------\n",
      "Survived  Pclass\n",
      "0         1          80\n",
      "          2          97\n",
      "          3         372\n",
      "1         1         136\n",
      "          2          87\n",
      "          3         119\n",
      "dtype: int64\n"
     ]
    }
   ],
   "source": [
    "#hypothesis one: sex factor counts\n",
    "print '------------'\n",
    "print data.groupby(['Survived','Sex']).size()\n",
    "\n",
    "#hypothesis two:class factor counts\n",
    "print '------------'\n",
    "print data.groupby(['Survived','Pclass']).size()\n"
   ]
  },
  {
   "cell_type": "markdown",
   "metadata": {},
   "source": [
    "\n",
    "\n",
    "### Hypothesis I:Yes!\n",
    "Among 342 survivors females were 2.1 times of males despite males were actually 1.8 times of them on board! That means the  likely hood of survival of females were 3.8 times of that of male. \n",
    "\n",
    "### Hypothesis II: Yes!\n",
    "Upper class has least number in victims and greatest number in survivors while its size was slightly bigger than medium class and just half of lower class.\n"
   ]
  },
  {
   "cell_type": "code",
   "execution_count": 9,
   "metadata": {
    "collapsed": false
   },
   "outputs": [
    {
     "name": "stdout",
     "output_type": "stream",
     "text": [
      "------------\n",
      "Mean Age for Survivors:28.3436896552    \n",
      "Mean Age for Victims:30.6261792453\n"
     ]
    }
   ],
   "source": [
    "#hypothesis three: age factor counts\n",
    "print '------------'\n",
    "survivors=filter_data(data,'Survived == 1')\n",
    "victims=filter_data(data,'Survived == 0')\n",
    "\n",
    "a=survivors['Age'].dropna().values\n",
    "b= victims['Age'].dropna().values\n",
    "\n",
    "print 'Mean Age for Survivors:{}    \\nMean Age for Victims:{}'.format(a.mean(),b.mean())"
   ]
  },
  {
   "cell_type": "markdown",
   "metadata": {},
   "source": [
    "\n",
    "### Hypothesis III: not convincing, what next?\n",
    "The mean age difference between survivors and victims is only -2.3,  it's neither very convincing nor indicating total unrelationship. We need to do some simple t-test and linear regression to extend and solidify the observation we got here. And hopefully from there we can get some insights about what happened with Age factor as well. "
   ]
  },
  {
   "cell_type": "markdown",
   "metadata": {},
   "source": [
    "# 2.3 Diving into dataset\n",
    "## 2.3.1 Use Chi-square to examine hypothesis"
   ]
  },
  {
   "cell_type": "markdown",
   "metadata": {},
   "source": [
    ">**How does Sex factor play in deciding chance of survival?**\n",
    "  \n",
    "H0: no relationship between gender and survival chance.  \n",
    "H1:relashitionship between gender and survival chance.   \n",
    "critical p value: 0.01.  \n",
    "\n",
    "Result: p value =1.19735706278e-58  \n",
    "Conclusion: H0 rejected. Survival chance is dependent on gender.  "
   ]
  },
  {
   "cell_type": "code",
   "execution_count": 10,
   "metadata": {
    "collapsed": false,
    "scrolled": true
   },
   "outputs": [
    {
     "name": "stdout",
     "output_type": "stream",
     "text": [
      "Results of Chi-Squared test on Sex to Survival. \n",
      "\n",
      "Sex       female  male\n",
      "Survived              \n",
      "0             81   468\n",
      "1            233   109 \n",
      "\n",
      "Does Sex have a significant effect on Survival?\n",
      "Chi-Squared Score = 260.717020167\n",
      "Pvalue = 1.19735706278e-58\n",
      "\n"
     ]
    }
   ],
   "source": [
    "# Chi-Squared Tests\n",
    "#H0: no relationship between gender and survival chance\n",
    "#H1:relashitionship between gender and survival chance\n",
    "#critical p value: 0.01\n",
    "\n",
    "from scipy.stats import chi2_contingency\n",
    "print \"Results of Chi-Squared test on Sex to Survival. \\n\"\n",
    "\n",
    "pivot = pd.pivot_table( data[['Survived', 'Sex']], index = 'Survived', columns = ['Sex'], aggfunc = len)\n",
    "pivot\n",
    "print pivot,\"\\n\"\n",
    "chi2, p_value, dof, expected = chi2_contingency(pivot)\n",
    "\n",
    "print \"Does Sex have a significant effect on Survival?\"\n",
    "print \"Chi-Squared Score = \" + str(chi2)\n",
    "print \"Pvalue = \" + str(p_value) +\"\\n\""
   ]
  },
  {
   "cell_type": "markdown",
   "metadata": {},
   "source": [
    ">**How does Pclass factor play in influencing chance of survival?**  \n",
    "\n",
    "H0: no relationship between Pclass and survival chance.  \n",
    "H1:relashitionship between Pclass and survival chance.   \n",
    "critical p value: 0.01.  \n",
    "\n",
    "Result: p value = 4.5492517113e-23   \n",
    "Conclusion: H0 rejected. Survival chance is dependent on Pclass.  \n"
   ]
  },
  {
   "cell_type": "code",
   "execution_count": 11,
   "metadata": {
    "collapsed": false
   },
   "outputs": [
    {
     "name": "stdout",
     "output_type": "stream",
     "text": [
      "Results of Chi-Squared test on Pclass to Survival. \n",
      "\n",
      "Pclass      1   2    3\n",
      "Survived              \n",
      "0          80  97  372\n",
      "1         136  87  119 \n",
      "\n",
      "Does Pclass have a significant effect on Survival?\n",
      "Chi-Squared Score = 102.888988757\n",
      "Pvalue = 4.5492517113e-23\n",
      "\n"
     ]
    }
   ],
   "source": [
    "# Chi-Squared Tests\n",
    "#H0: no relationship between status and survival chance\n",
    "#H1:relashitionship between status and survival chance\n",
    "#critical p value: 0.01\n",
    "\n",
    "print \"Results of Chi-Squared test on Pclass to Survival. \\n\"\n",
    "\n",
    "pivot = pd.pivot_table( data[['Survived', 'Pclass']], index = 'Survived', columns = ['Pclass'], aggfunc = len)\n",
    "pivot\n",
    "print pivot,\"\\n\"\n",
    "chi2, p_value, dof, expected = chi2_contingency(pivot)\n",
    "\n",
    "print \"Does Pclass have a significant effect on Survival?\"\n",
    "print \"Chi-Squared Score = \" + str(chi2)\n",
    "print \"Pvalue = \" + str(p_value) +\"\\n\""
   ]
  },
  {
   "cell_type": "markdown",
   "metadata": {},
   "source": [
    "**'Age' factor**:\n",
    "t-test and LR indicates slightly negative corelation between age and survival. While the  P value, especially in one-tail unpaired t-test, almost sits right on the critical level. Besides, the correlation percentage of age to survival is even lower than Pclass with Sex. \n",
    "\n",
    "H0: no relationship between age and survival chance.  \n",
    "H1:relashitionship between age and survival chance.  \n",
    "critical p value: 0.01.  \n",
    "\n",
    "Result: p value =0.0541902389069  \n",
    "Conclusion: Fail to reject H0. No significant dependence of survival chance on age.  "
   ]
  },
  {
   "cell_type": "code",
   "execution_count": 12,
   "metadata": {
    "collapsed": false,
    "scrolled": true
   },
   "outputs": [
    {
     "name": "stdout",
     "output_type": "stream",
     "text": [
      "Results of Chi-Squared test on Age to Survival. \n",
      "\n",
      "Ischildren  False  True \n",
      "Survived                \n",
      "0              58      2\n",
      "1             106     17 \n",
      "\n",
      "Does Age have a significant effect on Survival?\n",
      "Chi-Squared Score = 3.706829327\n",
      "Pvalue = 0.0541902389069\n",
      "\n"
     ]
    }
   ],
   "source": [
    "# Chi-Squared Tests\n",
    "#H0: no relationship between age and survival chance\n",
    "#H1:relashitionship between age and survival chance\n",
    "#critical p value: 0.01\n",
    "\n",
    "print \"Results of Chi-Squared test on Age to Survival. \\n\"\n",
    "# create new variable: Ischildren, cutoff is set at 18\n",
    "data[\"Ischildren\"]=data[\"Age\"]<18\n",
    "newdata=data.dropna()\n",
    "pivot = pd.pivot_table( newdata[['Survived', 'Ischildren']], index = 'Survived', columns = ['Ischildren'], aggfunc = len)\n",
    "pivot\n",
    "print pivot,\"\\n\"\n",
    "chi2, p_value, dof, expected = chi2_contingency(pivot)\n",
    "\n",
    "print \"Does Age have a significant effect on Survival?\"\n",
    "print \"Chi-Squared Score = \" + str(chi2)\n",
    "print \"Pvalue = \" + str(p_value) +\"\\n\""
   ]
  },
  {
   "cell_type": "markdown",
   "metadata": {},
   "source": [
    ">**What Next**: The probability is bigger than 1% which means we fail to reject H0 hypothesis, but since it's quite close to critical value the probabiliy of occurance of type II error is high. Besides we can't exclude probability of lurking variable which might play down or up the effect of age factor. let's do some visualizations to help decide whether children are given priority in survival. "
   ]
  },
  {
   "cell_type": "markdown",
   "metadata": {},
   "source": [
    "## 2.3.2 Use histogram visualization to probe lurking variable\n"
   ]
  },
  {
   "cell_type": "code",
   "execution_count": 13,
   "metadata": {
    "collapsed": false
   },
   "outputs": [],
   "source": [
    "\n",
    "#histogram visualization block\n",
    "#code in this block is borrowed from P0 file \"babs_visualizations.py\" with adaptive modifications\n",
    "    \n",
    "def usage_plot(data, key='', filters=[], title=\"Number of People\",**kwargs):\n",
    "    if not key:\n",
    "        raise Exception(\"No key has been provided. Make sure you provide a variable on which to plot the data.\")\n",
    "    if key not in data.columns.values:\n",
    "         raise Exception(\"'{}' is not a feature of the dataframe. Did you spell something wrong?\".format(key))\n",
    "        \n",
    "    for condition in filters:\n",
    "        data = filter_data(data, condition)\n",
    "    \n",
    "    plt.figure(figsize=(8, 6))\n",
    "    \n",
    "    if kwargs and 'n_bins' in kwargs and 'bin_width' in kwargs:\n",
    "        raise Exception(\"Arguments 'n_bins' and 'bin_width' cannot be used simultaneously.\")    \n",
    "    \n",
    "    min_value = data[key].min()\n",
    "    max_value = data[key].max()\n",
    "    value_range = max_value - min_value\n",
    "    \n",
    "    n_bins = 10\n",
    "    bin_width = float(value_range) / n_bins\n",
    "\n",
    "    if kwargs and 'n_bins' in kwargs:\n",
    "        n_bins = int(kwargs['n_bins'])\n",
    "        bin_width = float(value_range) / n_bins\n",
    "    elif kwargs and 'bin_width' in kwargs:\n",
    "        bin_width = kwargs['bin_width']\n",
    "        n_bins = int(np.ceil(float(value_range) / bin_width))\n",
    "\n",
    "    if kwargs and 'boundary' in kwargs:\n",
    "        bound_factor = np.floor((min_value - kwargs['boundary']) / bin_width)\n",
    "        min_value = kwargs['boundary'] + bound_factor * bin_width\n",
    "        if min_value + n_bins * bin_width <= max_value:\n",
    "            n_bins += 1\n",
    "\n",
    "    bins = [i * bin_width + min_value for i in range(n_bins + 1)]\n",
    "\n",
    "    # plot the data\n",
    "    plt.hist(data[key], bins=bins)\n",
    "\n",
    "    # Common attributes for plot formatting\n",
    "    key_name = ' '.join([x.capitalize() for x in key.split('_')])\n",
    "    plt.xlabel(key_name)\n",
    "    plt.ylabel(\"Number of People\")\n",
    "    plt.title(title)\n",
    "    plt.show()\n",
    "\n"
   ]
  },
  {
   "cell_type": "code",
   "execution_count": 14,
   "metadata": {
    "collapsed": false
   },
   "outputs": [
    {
     "data": {
      "image/png": "[encoded data removed]",
      "text/plain": [
       "<matplotlib.figure.Figure at 0x1d1b8358>"
      ]
     },
     "metadata": {},
     "output_type": "display_data"
    }
   ],
   "source": [
    "#visualize the age distribution of victims\n",
    "usage_plot(data,'Age',['Age > 0', 'Survived == 0'],title='Age Distribution of Victims',bin_width=4)\n"
   ]
  },
  {
   "cell_type": "code",
   "execution_count": 15,
   "metadata": {
    "collapsed": false
   },
   "outputs": [
    {
     "data": {
      "image/png": "[encoded data removed]",
      "text/plain": [
       "<matplotlib.figure.Figure at 0x1d189c50>"
      ]
     },
     "metadata": {},
     "output_type": "display_data"
    }
   ],
   "source": [
    "#visualize the age distribution of survivors\n",
    "usage_plot(data,'Age',['Age > 0','Survived == 1'],title='Age Distribution of Survivors',bin_width=4)"
   ]
  },
  {
   "cell_type": "markdown",
   "metadata": {},
   "source": [
    "### New land\n",
    "Feel the age distribution of survivors slightly more positive skewed than the victims'... **Wait, there is something unsual:** a unseen bar on the most left side (indicating babies and infants) **jump out** in the survivors distribution. Let's zoom in a little bit. To maintain a satisfying sample size, set the age cutoff as 24."
   ]
  },
  {
   "cell_type": "code",
   "execution_count": 16,
   "metadata": {
    "collapsed": false
   },
   "outputs": [
    {
     "data": {
      "image/png": "[encoded data removed]",
      "text/plain": [
       "<matplotlib.figure.Figure at 0x1f850f98>"
      ]
     },
     "metadata": {},
     "output_type": "display_data"
    }
   ],
   "source": [
    "#visualize the age distribution of young victims\n",
    "usage_plot(data,'Age',['Age <= 24','Survived == 0'],title='Age Distribution of YOUNG Victims (under 24)',bin_width=4,boundary=0)\n"
   ]
  },
  {
   "cell_type": "code",
   "execution_count": 17,
   "metadata": {
    "collapsed": false
   },
   "outputs": [
    {
     "data": {
      "image/png": "[encoded data removed]",
      "text/plain": [
       "<matplotlib.figure.Figure at 0x1d13efd0>"
      ]
     },
     "metadata": {},
     "output_type": "display_data"
    }
   ],
   "source": [
    "#visualize the age distribution of yong survivors\n",
    "usage_plot(data,'Age',['Age <= 24','Survived == 1'],title='Age Distribution of YOUNG Survivors (under 24)',bin_width=4,boundary=0)"
   ]
  },
  {
   "cell_type": "markdown",
   "metadata": {},
   "source": [
    "### Gotcha\n",
    "Aha! Now we might know which part of Age region does the **weak negative correlation** come from! But apparently infants and babies can't defend against the accident by themselve. What would I interpret that? Did I omit anything?-The existance of **family members**! It is human nature for parents to fight for every probility to secure the safety of their children. If that is the case, we shall see distinct survival pattern between children staying with parents and children who not."
   ]
  },
  {
   "cell_type": "markdown",
   "metadata": {},
   "source": [
    ">**Statistics**  \n",
    "\n",
    "H0: p1>p2, survival probability of children traveling with parents is significantly greater than those without parents.\n",
    "H1:p1< p2 or p1 = p2, survival probability of children traveling with parents is not significantly greater than those without parents.   \n",
    "critical p value: 0.01.  \n",
    "\n",
    "Result: p value =1.33268843039e-05  \n",
    "Conclusion: H0 rejected.   \n",
    "Survival probability of children traveling with parents is significantly greater than those without parents."
   ]
  },
  {
   "cell_type": "code",
   "execution_count": 18,
   "metadata": {
    "collapsed": false,
    "scrolled": true
   },
   "outputs": [
    {
     "name": "stdout",
     "output_type": "stream",
     "text": [
      "Among 247 passengers whose age <24, 103 of them are with their parchents, 144 of them without\n",
      "\n",
      "Children traveling with their parents:\n",
      "\n",
      "Survived\n",
      "0    44\n",
      "1    59\n",
      "dtype: int64\n",
      "Children traveling without their parents:\n",
      "\n",
      "Survived\n",
      "0    100\n",
      "1     44\n",
      "dtype: int64\n",
      "----------The critical p value is 0.01.\n",
      "The calculated z value is 4.20032026502\n",
      "The calculated p value is 1.33268843039e-05\n"
     ]
    }
   ],
   "source": [
    "#comparche the survival chance between children with parchents and children without parchents\n",
    "import math\n",
    "\n",
    "children=filter_data(data,'Age < 24')\n",
    "children_noparch=filter_data(children,'ParCh == 0')\n",
    "children_parch=filter_data(children,'ParCh > 0')\n",
    "print 'Among {} passengers whose age <24, {} of them are with their parchents, {} of them without\\n'. format(len(children),len(children_parch),len(children_noparch))\n",
    "size_parch=children_parch.groupby(\"Survived\").size()\n",
    "size_noparch=children_noparch.groupby(\"Survived\").size()\n",
    "print \"Children traveling with their parents:\\n\"\n",
    "print size_parch\n",
    "print \"Children traveling without their parents:\\n\"\n",
    "print size_noparch\n",
    "\n",
    "#H0:p1=p2, no statistically signifcant difference between survival probability  between children with and without parents\n",
    "#calculate proportions and difference\n",
    "parchS,parchV,parch,noparchS,noparchV,noparch=size_parch[1],size_parch[0],sum(size_parch),size_noparch[1],size_noparch[0],sum(size_noparch)\n",
    "p1=parchS/1./parch\n",
    "p2=noparchS/1./noparch\n",
    "p=(parchS+noparchS)/1./(parch+noparch)\n",
    "d=p1-p2\n",
    "\n",
    "import  scipy.stats\n",
    "#calculate standard error and z value\n",
    "#critical z value is set at +1.96, with corresponding p value = 0.05\n",
    "sd=math.sqrt(p*(1-p)*(1./parch+1./noparch))\n",
    "z=d/sd\n",
    "\n",
    "print \"----------The critical p value is 0.01.\" \n",
    "print \"The calculated z value is \" +  str(z)\n",
    "p = scipy.stats.norm.sf(abs(z))\n",
    "print \"The calculated p value is \" +  str(p)\n",
    "\n"
   ]
  },
  {
   "cell_type": "markdown",
   "metadata": {
    "collapsed": false
   },
   "source": [
    "**Null hypothesis rejected**: caculated Z value is 4.20003. Corresponding P[one-tail]=0.00001343862564560838. Therefore we can conclude that children traveling with parents are more likely to survive comparing with children who didn't. According our previous analysis, age factor ifself doesn't show strong influence on survival rate. However it is the interaction between \"Age\" and \"Parch\" that have significant effect on children's survival.  \n",
    "Some might doubt about the seemingly arbitrarily chosen of age region, as 24 years old independent adults are included and treated as infants and babies who benefited from help of parents. However as I said,  parents tend to take care of their children, but since the paramether 'Parch' intangles the parent and child we can't test our hypothesis directly. 24 years old, first of all, is a safe guess below which one will more likely assume the role of an offspring instead of parent and became a help receiver. Secondly, although didn't show here, several other cutoffs such as 14,18,and 21 are also tried , all of them rejected H0 hypothesis, which means this conclusion hold very tight. However I decided on 24 since it gives the best sample size  to reduce random error. "
   ]
  },
  {
   "cell_type": "markdown",
   "metadata": {},
   "source": [
    "### Age dependent contribution:\n",
    "If our speculation hold true, children are solely help receiver from their parents, then parents with their children onboard must not have higher survival rate than those traveled alone. And the results are just as expected. If we set the cutoff to Age > 40, which is the supposed parents group, the benefits from traveling together with direct relatives vanished. The contribution of \"Parch\" to surivival rate is highly age dependent.   \n",
    "\n",
    ">**Statistics**  \n",
    "\n",
    "H0: p1=p2, no statistically signifcant difference between survival probability  between parents with and without children\n",
    "H1:p1!=p2, statistically signifcant difference is found between survival probability  between parents with and without children  \n",
    "critical p value: 0.01.  \n",
    "\n",
    "Result: p value =0.437078099739  \n",
    "Conclusion: Fail to reject H0.   \n",
    "No statistically signifcant difference is found between survival probability  between parents with and without children.\n"
   ]
  },
  {
   "cell_type": "code",
   "execution_count": 19,
   "metadata": {
    "collapsed": false
   },
   "outputs": [
    {
     "name": "stdout",
     "output_type": "stream",
     "text": [
      "Among 150 passengers whose age > 40, 33 of them are with their child, 117 of them without\n",
      "\n",
      "Parents traveling with their children:\n",
      "\n",
      "Survived\n",
      "0    19\n",
      "1    14\n",
      "dtype: int64\n",
      "Parents traveling without their children:\n",
      "\n",
      "Survived\n",
      "0    76\n",
      "1    41\n",
      "dtype: int64\n",
      "----------The critical p value is 0.01.\n",
      "The calculated z value is 0.777136740241\n",
      "The calculated p value is 0.437078099739\n"
     ]
    }
   ],
   "source": [
    "\n",
    "parent=filter_data(data,'Age > 40')\n",
    "parent_noparch=filter_data(parent,'ParCh == 0')\n",
    "parent_parch=filter_data(parent,'ParCh > 0')\n",
    "print 'Among {} passengers whose age > 40, {} of them are with their child, {} of them without\\n'. format(len(parent),len(parent_parch),len(parent_noparch))\n",
    "size_parch=parent_parch.groupby(\"Survived\").size()\n",
    "size_noparch=parent_noparch.groupby(\"Survived\").size()\n",
    "print \"Parents traveling with their children:\\n\"\n",
    "print size_parch\n",
    "print \"Parents traveling without their children:\\n\"\n",
    "print size_noparch\n",
    "\n",
    "\n",
    "#H0:p1=p2, no statistically signifcant difference between survival probability  between parents with and without children\n",
    "#calculate proportions and difference\n",
    "parchS,parchV,parch,noparchS,noparchV,noparch=size_parch[1],size_parch[0],sum(size_parch),size_noparch[1],size_noparch[0],sum(size_noparch)\n",
    "p1=parchS/1./parch\n",
    "p2=noparchS/1./noparch\n",
    "p=(parchS+noparchS)/1./(parch+noparch)\n",
    "d=p1-p2\n",
    "    \n",
    "#calculate standard error and z value\n",
    "#critical z value is set at +1.96, with corresponding p value = 0.05\n",
    "sd=math.sqrt(p*(1-p)*(1./parch+1./noparch))\n",
    "z=d/sd\n",
    "print \"----------The critical p value is 0.01.\" \n",
    "print \"The calculated z value is \" +  str(z)\n",
    "p = scipy.stats.norm.sf(abs(z))*2\n",
    "print \"The calculated p value is \" +  str(p)\n",
    "\n"
   ]
  },
  {
   "cell_type": "markdown",
   "metadata": {},
   "source": [
    "# 3. Conclusion\n"
   ]
  },
  {
   "cell_type": "markdown",
   "metadata": {},
   "source": [
    "Based on preliminary knowledge from movie, biography, and reports, an outline of the sinking accident is firstly depicted and the key dependent variable \"Survived\" is proposed. Combining with the quick summary of the dataset at hand we located 3 most likely canditates in survival determination: Sex, Pclass, and Age. Pandas describe() function and pie chart visualization confirm that the two variables ,Sex and Pclass, are indeed very strong determinants. And the two variables are find corelated. The role of Age, however, is bit subtle and hard to confirm at the begining.But in visualizations we find a lurking variable, 'Parch', cooperative with Age in survival chance determining. By using 'Age > 40' as control group(parents), we validate this hypothesis and prove the **interaction between Age and Parch**, is another important factor.  \n",
    "However, we must also keep in mind conclusion draw here is based on assumptions and incomplete. On one hand the given dataset covered only one third of the personal, leaving the question open whether it's representative enough; on the other hand, how  these factors, Age, Pclass and Age-Parch, mathematically decide survival rate, that is, predict the survival rate, is unclear.\n"
   ]
  },
  {
   "cell_type": "code",
   "execution_count": null,
   "metadata": {
    "collapsed": true
   },
   "outputs": [],
   "source": []
  }
 ],
 "metadata": {
  "kernelspec": {
   "display_name": "Python 2",
   "language": "python",
   "name": "python2"
  },
  "language_info": {
   "codemirror_mode": {
    "name": "ipython",
    "version": 2
   },
   "file_extension": ".py",
   "mimetype": "text/x-python",
   "name": "python",
   "nbconvert_exporter": "python",
   "pygments_lexer": "ipython2",
   "version": "2.7.11"
  }
 },
 "nbformat": 4,
 "nbformat_minor": 1
}
